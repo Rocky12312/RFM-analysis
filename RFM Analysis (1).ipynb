{
 "cells": [
  {
   "cell_type": "markdown",
   "metadata": {},
   "source": [
    "## RFM Analysis\n",
    "\n",
    "RFM is we can say a method to analyze customer value so that we can focus on customer accordingly(We can group our customer into clusters to focus on a group having same properties similarly)\n",
    "\n",
    "RFM stands for three dimension:\n",
    "\n",
    "1)Recency: How recently did customer purchase(Duration since last purchase)\n",
    "\n",
    "2)Frequency: How often did they purchase(Total number of purchases)\n",
    "\n",
    "3)Monetary Value: How much did they spent(Total money the customer spent)\n",
    "\n",
    "Basically RFM analysis can be done in three main steps:\n",
    "\n",
    "1)Building the RFM feature matrix(Will contain R,F,M values corresponding to each customer)\n",
    "\n",
    "2)Determining the cutoff point for each feature\n",
    "\n",
    "3)Determining the RFM score for each customer and their business value\n",
    "\n",
    "This notebook is in **Python** so the default cell type is Python. However,if we want to use different languages(Scala, SQL, and R) we can use by using adding the `%LANGUAGE` syntax at front."
   ]
  },
  {
   "cell_type": "code",
   "execution_count": 2,
   "metadata": {},
   "outputs": [
    {
     "data": {
      "text/html": [
       "<style scoped>\n",
       "  .table-result-container {\n",
       "    max-height: 300px;\n",
       "    overflow: auto;\n",
       "  }\n",
       "  table, th, td {\n",
       "    border: 1px solid black;\n",
       "    border-collapse: collapse;\n",
       "  }\n",
       "  th, td {\n",
       "    padding: 5px;\n",
       "  }\n",
       "  th {\n",
       "    text-align: left;\n",
       "  }\n",
       "</style><div class='table-result-container'><table class='table-result'><thead style='background-color: white'><tr><th>InvoiceNo</th><th>StockCode</th><th>Description</th><th>Quantity</th><th>InvoiceDate</th><th>UnitPrice</th><th>CustomerID</th><th>Country</th></tr></thead><tbody><tr><td>536365</td><td>85123A</td><td>WHITE HANGING HEART T-LIGHT HOLDER</td><td>6</td><td>12/1/2010 8:26</td><td>2.549999952316284</td><td>17850</td><td>United Kingdom</td></tr><tr><td>536365</td><td>71053</td><td>WHITE METAL LANTERN</td><td>6</td><td>12/1/2010 8:26</td><td>3.390000104904175</td><td>17850</td><td>United Kingdom</td></tr><tr><td>536365</td><td>84406B</td><td>CREAM CUPID HEARTS COAT HANGER</td><td>8</td><td>12/1/2010 8:26</td><td>2.75</td><td>17850</td><td>United Kingdom</td></tr><tr><td>536365</td><td>84029G</td><td>KNITTED UNION FLAG HOT WATER BOTTLE</td><td>6</td><td>12/1/2010 8:26</td><td>3.390000104904175</td><td>17850</td><td>United Kingdom</td></tr><tr><td>536365</td><td>84029E</td><td>RED WOOLLY HOTTIE WHITE HEART.</td><td>6</td><td>12/1/2010 8:26</td><td>3.390000104904175</td><td>17850</td><td>United Kingdom</td></tr></tbody></table></div>"
      ]
     },
     "metadata": {},
     "output_type": "display_data"
    }
   ],
   "source": [
    "from pyspark.sql.types import StructType, StructField, IntegerType, StringType, FloatType\n",
    "import pandas as pd\n",
    "import numpy as np\n",
    "\n",
    "#Location and the file type\n",
    "file_location = \"/FileStore/tables/OnlineRetail.csv\"\n",
    "file_type = \"csv\"\n",
    "\n",
    "#We can make the read operation(when DAG turns) much faster by defining the schema\n",
    "schema = StructType([\n",
    "  StructField(\"InvoiceNo\",IntegerType(),True),\n",
    "  StructField(\"StockCode\",StringType(),True),\n",
    "  StructField(\"Description\",StringType(),True),\n",
    "  StructField(\"Quantity\",IntegerType(),True),\n",
    "  StructField(\"InvoiceDate\",StringType(),True),\n",
    "  StructField(\"UnitPrice\",FloatType(),True),\n",
    "  StructField(\"CustomerID\",IntegerType(),True),\n",
    "  StructField(\"Country\",StringType(),True)\n",
    "])\n",
    "df = spark.read.option(\"header\",\"true\") \\\n",
    "                         .format(\"csv\") \\\n",
    "                         .schema(schema) \\\n",
    "                         .load(\"/FileStore/tables/OnlineRetail.csv\")\n",
    "\n",
    "display(df.head(5))"
   ]
  },
  {
   "cell_type": "code",
   "execution_count": 3,
   "metadata": {},
   "outputs": [
    {
     "data": {
      "text/html": [
       "<style scoped>\n",
       "  .ansiout {\n",
       "    display: block;\n",
       "    unicode-bidi: embed;\n",
       "    white-space: pre-wrap;\n",
       "    word-wrap: break-word;\n",
       "    word-break: break-all;\n",
       "    font-family: \"Source Code Pro\", \"Menlo\", monospace;;\n",
       "    font-size: 13px;\n",
       "    color: #555;\n",
       "    margin-left: 4px;\n",
       "    line-height: 19px;\n",
       "  }\n",
       "</style>\n",
       "<div class=\"ansiout\">root\n",
       "-- InvoiceNo: integer (nullable = true)\n",
       "-- StockCode: string (nullable = true)\n",
       "-- Description: string (nullable = true)\n",
       "-- Quantity: integer (nullable = true)\n",
       "-- InvoiceDate: string (nullable = true)\n",
       "-- UnitPrice: float (nullable = true)\n",
       "-- CustomerID: integer (nullable = true)\n",
       "-- Country: string (nullable = true)\n",
       "\n",
       "</div>"
      ]
     },
     "metadata": {},
     "output_type": "display_data"
    }
   ],
   "source": [
    "#The schema structures of the dataframe\n",
    "df.printSchema()"
   ]
  },
  {
   "cell_type": "code",
   "execution_count": 4,
   "metadata": {},
   "outputs": [
    {
     "data": {
      "text/html": [
       "<style scoped>\n",
       "  .ansiout {\n",
       "    display: block;\n",
       "    unicode-bidi: embed;\n",
       "    white-space: pre-wrap;\n",
       "    word-wrap: break-word;\n",
       "    word-break: break-all;\n",
       "    font-family: \"Source Code Pro\", \"Menlo\", monospace;;\n",
       "    font-size: 13px;\n",
       "    color: #555;\n",
       "    margin-left: 4px;\n",
       "    line-height: 19px;\n",
       "  }\n",
       "</style>\n",
       "<div class=\"ansiout\">Out[8]: [&#39;InvoiceNo&#39;,\n",
       " &#39;StockCode&#39;,\n",
       " &#39;Description&#39;,\n",
       " &#39;Quantity&#39;,\n",
       " &#39;InvoiceDate&#39;,\n",
       " &#39;UnitPrice&#39;,\n",
       " &#39;CustomerID&#39;,\n",
       " &#39;Country&#39;]</div>"
      ]
     },
     "metadata": {},
     "output_type": "display_data"
    }
   ],
   "source": [
    "#Columns in the data\n",
    "df.columns"
   ]
  },
  {
   "cell_type": "code",
   "execution_count": 5,
   "metadata": {},
   "outputs": [
    {
     "data": {
      "text/html": [
       "<style scoped>\n",
       "  .ansiout {\n",
       "    display: block;\n",
       "    unicode-bidi: embed;\n",
       "    white-space: pre-wrap;\n",
       "    word-wrap: break-word;\n",
       "    word-break: break-all;\n",
       "    font-family: \"Source Code Pro\", \"Menlo\", monospace;;\n",
       "    font-size: 13px;\n",
       "    color: #555;\n",
       "    margin-left: 4px;\n",
       "    line-height: 19px;\n",
       "  }\n",
       "</style>\n",
       "<div class=\"ansiout\">+---------+---------+-----------+--------+-----------+---------+----------+-------+\n",
       "InvoiceNo|StockCode|Description|Quantity|InvoiceDate|UnitPrice|CustomerID|Country|\n",
       "+---------+---------+-----------+--------+-----------+---------+----------+-------+\n",
       "   532618|   532618|     531164|  532618|     532618|   532618|    397924| 532618|\n",
       "+---------+---------+-----------+--------+-----------+---------+----------+-------+\n",
       "\n",
       "</div>"
      ]
     },
     "metadata": {},
     "output_type": "display_data"
    }
   ],
   "source": [
    "#Data Cleaning and Data Manipulation\n",
    "from pyspark.sql.functions import count\n",
    "\n",
    "#Returning the counts from all the columns to check that how many column contain how much null values(NaN values)\n",
    "def my_count(df_in):\n",
    "    df_in.agg( *[ count(c).alias(c) for c in df_in.columns ] ).show()\n",
    "    \n",
    "    \n",
    "my_count(df)\n",
    "#Since as we can see that our count values are not same and in CustomerID column we have some null values so we need to handle these null values"
   ]
  },
  {
   "cell_type": "markdown",
   "metadata": {},
   "source": [
    "#Handling Null Values\n",
    "\n",
    "\n",
    "1)The very basic way to deal with null values is to remove them only in a case if our data is much bigger so that removing the Data points with Null values doesn't affect the data much\n",
    "\n",
    "2)Some good techniques to deal with Null values insted of removing them\n",
    "As we have lot of methods to deal with null values we can replace the null values in data with some number like -999, with mean or with medain etc.\n",
    "\n",
    "3)In this case what we can do is we can also train a model with CustomerID column as target and all other non null valued columns as our independent variables(only with non null values) and then after training replace the null values with the corresponding predicted values at that position"
   ]
  },
  {
   "cell_type": "code",
   "execution_count": 7,
   "metadata": {},
   "outputs": [
    {
     "data": {
      "text/html": [
       "<style scoped>\n",
       "  .ansiout {\n",
       "    display: block;\n",
       "    unicode-bidi: embed;\n",
       "    white-space: pre-wrap;\n",
       "    word-wrap: break-word;\n",
       "    word-break: break-all;\n",
       "    font-family: \"Source Code Pro\", \"Menlo\", monospace;;\n",
       "    font-size: 13px;\n",
       "    color: #555;\n",
       "    margin-left: 4px;\n",
       "    line-height: 19px;\n",
       "  }\n",
       "</style>\n",
       "<div class=\"ansiout\">+---------+---------+-----------+--------+-----------+---------+----------+-------+\n",
       "InvoiceNo|StockCode|Description|Quantity|InvoiceDate|UnitPrice|CustomerID|Country|\n",
       "+---------+---------+-----------+--------+-----------+---------+----------+-------+\n",
       "   397924|   397924|     397924|  397924|     397924|   397924|    397924| 397924|\n",
       "+---------+---------+-----------+--------+-----------+---------+----------+-------+\n",
       "\n",
       "</div>"
      ]
     },
     "metadata": {},
     "output_type": "display_data"
    }
   ],
   "source": [
    "#First going with the basic method as our dataset is sufficiently large and if the model fails to generalize good on the dataset we will use other missing vaue handling techniques\n",
    "\n",
    "df = df.dropna(how=\"any\")\n",
    "my_count(df)\n",
    "\n",
    "#So as now we can see that the null values data points have been removed from our data"
   ]
  },
  {
   "cell_type": "code",
   "execution_count": 8,
   "metadata": {},
   "outputs": [
    {
     "data": {
      "text/html": [
       "<style scoped>\n",
       "  .table-result-container {\n",
       "    max-height: 300px;\n",
       "    overflow: auto;\n",
       "  }\n",
       "  table, th, td {\n",
       "    border: 1px solid black;\n",
       "    border-collapse: collapse;\n",
       "  }\n",
       "  th, td {\n",
       "    padding: 5px;\n",
       "  }\n",
       "  th {\n",
       "    text-align: left;\n",
       "  }\n",
       "</style><div class='table-result-container'><table class='table-result'><thead style='background-color: white'><tr><th>InvoiceNo</th><th>StockCode</th><th>Description</th><th>Quantity</th><th>InvoiceDate</th><th>UnitPrice</th><th>CustomerID</th><th>Country</th><th>NewInvoiceDate</th></tr></thead><tbody><tr><td>536365</td><td>85123A</td><td>WHITE HANGING HEART T-LIGHT HOLDER</td><td>6</td><td>12/1/2010 8:26</td><td>2.549999952316284</td><td>17850</td><td>United Kingdom</td><td>2010-12-01T08:26:00.000+0000</td></tr><tr><td>536365</td><td>71053</td><td>WHITE METAL LANTERN</td><td>6</td><td>12/1/2010 8:26</td><td>3.390000104904175</td><td>17850</td><td>United Kingdom</td><td>2010-12-01T08:26:00.000+0000</td></tr><tr><td>536365</td><td>84406B</td><td>CREAM CUPID HEARTS COAT HANGER</td><td>8</td><td>12/1/2010 8:26</td><td>2.75</td><td>17850</td><td>United Kingdom</td><td>2010-12-01T08:26:00.000+0000</td></tr><tr><td>536365</td><td>84029G</td><td>KNITTED UNION FLAG HOT WATER BOTTLE</td><td>6</td><td>12/1/2010 8:26</td><td>3.390000104904175</td><td>17850</td><td>United Kingdom</td><td>2010-12-01T08:26:00.000+0000</td></tr><tr><td>536365</td><td>84029E</td><td>RED WOOLLY HOTTIE WHITE HEART.</td><td>6</td><td>12/1/2010 8:26</td><td>3.390000104904175</td><td>17850</td><td>United Kingdom</td><td>2010-12-01T08:26:00.000+0000</td></tr></tbody></table></div>"
      ]
     },
     "metadata": {},
     "output_type": "display_data"
    }
   ],
   "source": [
    "#Converting InvoiceDate coulmn to UTC time stamp format(New column NewInvoiceDate Created)\n",
    "\n",
    "from pyspark.sql.functions import to_utc_timestamp, unix_timestamp, lit, datediff, col\n",
    "timeFormat = \"MM/dd/yy HH:mm\"\n",
    "df = df.withColumn(\"NewInvoiceDate\",to_utc_timestamp(unix_timestamp(col(\"InvoiceDate\"),timeFormat).cast(\"timestamp\"),\"UTC\"))\n",
    "display(df.head(5))"
   ]
  },
  {
   "cell_type": "code",
   "execution_count": 9,
   "metadata": {},
   "outputs": [
    {
     "data": {
      "text/html": [
       "<style scoped>\n",
       "  .table-result-container {\n",
       "    max-height: 300px;\n",
       "    overflow: auto;\n",
       "  }\n",
       "  table, th, td {\n",
       "    border: 1px solid black;\n",
       "    border-collapse: collapse;\n",
       "  }\n",
       "  th, td {\n",
       "    padding: 5px;\n",
       "  }\n",
       "  th {\n",
       "    text-align: left;\n",
       "  }\n",
       "</style><div class='table-result-container'><table class='table-result'><thead style='background-color: white'><tr><th>InvoiceNo</th><th>StockCode</th><th>Description</th><th>Quantity</th><th>InvoiceDate</th><th>UnitPrice</th><th>CustomerID</th><th>Country</th><th>NewInvoiceDate</th><th>TotalPrice</th></tr></thead><tbody><tr><td>536365</td><td>85123A</td><td>WHITE HANGING HEART T-LIGHT HOLDER</td><td>6</td><td>12/1/2010 8:26</td><td>2.549999952316284</td><td>17850</td><td>United Kingdom</td><td>2010-12-01T08:26:00.000+0000</td><td>15.300000190734863</td></tr><tr><td>536365</td><td>71053</td><td>WHITE METAL LANTERN</td><td>6</td><td>12/1/2010 8:26</td><td>3.390000104904175</td><td>17850</td><td>United Kingdom</td><td>2010-12-01T08:26:00.000+0000</td><td>20.34000015258789</td></tr><tr><td>536365</td><td>84406B</td><td>CREAM CUPID HEARTS COAT HANGER</td><td>8</td><td>12/1/2010 8:26</td><td>2.75</td><td>17850</td><td>United Kingdom</td><td>2010-12-01T08:26:00.000+0000</td><td>22.0</td></tr><tr><td>536365</td><td>84029G</td><td>KNITTED UNION FLAG HOT WATER BOTTLE</td><td>6</td><td>12/1/2010 8:26</td><td>3.390000104904175</td><td>17850</td><td>United Kingdom</td><td>2010-12-01T08:26:00.000+0000</td><td>20.34000015258789</td></tr><tr><td>536365</td><td>84029E</td><td>RED WOOLLY HOTTIE WHITE HEART.</td><td>6</td><td>12/1/2010 8:26</td><td>3.390000104904175</td><td>17850</td><td>United Kingdom</td><td>2010-12-01T08:26:00.000+0000</td><td>20.34000015258789</td></tr></tbody></table></div>"
      ]
     },
     "metadata": {},
     "output_type": "display_data"
    }
   ],
   "source": [
    "#Calculating the total price\n",
    "#For Calculating the monetary value we will be requiring the total amount that the customer has spent(so we need to get the price spent  by customer and which is equal to Quantity*unit_price_of_quantity)\n",
    "from pyspark.sql.functions import round\n",
    "df = df.withColumn(\"TotalPrice\",round(df.Quantity*df.UnitPrice,2))\n",
    "display(df.head(5))"
   ]
  },
  {
   "cell_type": "code",
   "execution_count": 10,
   "metadata": {},
   "outputs": [
    {
     "data": {
      "text/html": [
       "<style scoped>\n",
       "  .table-result-container {\n",
       "    max-height: 300px;\n",
       "    overflow: auto;\n",
       "  }\n",
       "  table, th, td {\n",
       "    border: 1px solid black;\n",
       "    border-collapse: collapse;\n",
       "  }\n",
       "  th, td {\n",
       "    padding: 5px;\n",
       "  }\n",
       "  th {\n",
       "    text-align: left;\n",
       "  }\n",
       "</style><div class='table-result-container'><table class='table-result'><thead style='background-color: white'><tr><th>InvoiceNo</th><th>StockCode</th><th>Description</th><th>Quantity</th><th>InvoiceDate</th><th>UnitPrice</th><th>CustomerID</th><th>Country</th><th>NewInvoiceDate</th><th>TotalPrice</th><th>Duration</th></tr></thead><tbody><tr><td>536365</td><td>85123A</td><td>WHITE HANGING HEART T-LIGHT HOLDER</td><td>6</td><td>12/1/2010 8:26</td><td>2.549999952316284</td><td>17850</td><td>United Kingdom</td><td>2010-12-01T08:26:00.000+0000</td><td>15.300000190734863</td><td>373</td></tr><tr><td>536365</td><td>71053</td><td>WHITE METAL LANTERN</td><td>6</td><td>12/1/2010 8:26</td><td>3.390000104904175</td><td>17850</td><td>United Kingdom</td><td>2010-12-01T08:26:00.000+0000</td><td>20.34000015258789</td><td>373</td></tr><tr><td>536365</td><td>84406B</td><td>CREAM CUPID HEARTS COAT HANGER</td><td>8</td><td>12/1/2010 8:26</td><td>2.75</td><td>17850</td><td>United Kingdom</td><td>2010-12-01T08:26:00.000+0000</td><td>22.0</td><td>373</td></tr><tr><td>536365</td><td>84029G</td><td>KNITTED UNION FLAG HOT WATER BOTTLE</td><td>6</td><td>12/1/2010 8:26</td><td>3.390000104904175</td><td>17850</td><td>United Kingdom</td><td>2010-12-01T08:26:00.000+0000</td><td>20.34000015258789</td><td>373</td></tr><tr><td>536365</td><td>84029E</td><td>RED WOOLLY HOTTIE WHITE HEART.</td><td>6</td><td>12/1/2010 8:26</td><td>3.390000104904175</td><td>17850</td><td>United Kingdom</td><td>2010-12-01T08:26:00.000+0000</td><td>20.34000015258789</td><td>373</td></tr></tbody></table></div>"
      ]
     },
     "metadata": {},
     "output_type": "display_data"
    }
   ],
   "source": [
    "#Calculating the time difference\n",
    "\n",
    "from pyspark.sql.functions import mean,min,max,sum,datediff,to_date\n",
    "date_max = df.select(max(\"NewInvoiceDate\")).toPandas()\n",
    "current = to_utc_timestamp(unix_timestamp(lit(str(date_max.iloc[0][0])),\"yy-MM-dd HH:mm\").cast(\"timestamp\"),\"UTC\")\n",
    "\n",
    "#Calculating the Duration(Duration is another important attribute for RFM analysis which tell how often did customer purchase)(From how much time he hasn't purchased)\n",
    "\n",
    "df = df.withColumn(\"Duration\",datediff(lit(current),\"NewInvoiceDate\"))\n",
    "display(df.head(5))"
   ]
  },
  {
   "cell_type": "markdown",
   "metadata": {},
   "source": [
    "###In this step we have build our RFM feature matrix and hence completed our first step of RFM analysis"
   ]
  },
  {
   "cell_type": "code",
   "execution_count": 12,
   "metadata": {},
   "outputs": [
    {
     "data": {
      "text/html": [
       "<style scoped>\n",
       "  .table-result-container {\n",
       "    max-height: 300px;\n",
       "    overflow: auto;\n",
       "  }\n",
       "  table, th, td {\n",
       "    border: 1px solid black;\n",
       "    border-collapse: collapse;\n",
       "  }\n",
       "  th, td {\n",
       "    padding: 5px;\n",
       "  }\n",
       "  th {\n",
       "    text-align: left;\n",
       "  }\n",
       "</style><div class='table-result-container'><table class='table-result'><thead style='background-color: white'><tr><th>CustomerID</th><th>Recency</th><th>Frequency</th><th>Monetary</th></tr></thead><tbody><tr><td>15727</td><td>16</td><td>7</td><td>5178.96</td></tr><tr><td>16574</td><td>71</td><td>1</td><td>451.44</td></tr><tr><td>17420</td><td>50</td><td>3</td><td>598.83</td></tr><tr><td>13285</td><td>23</td><td>4</td><td>2709.12</td></tr><tr><td>15619</td><td>10</td><td>1</td><td>336.4</td></tr></tbody></table></div>"
      ]
     },
     "metadata": {},
     "output_type": "display_data"
    }
   ],
   "source": [
    "#Building Recency,Frequency and Monetary attribute corresponding to the customers ID(Customers)\n",
    "\n",
    "recency = df.groupBy(\"CustomerID\").agg(min(\"Duration\").alias(\"Recency\"))\n",
    "frequency = df.groupBy(\"CustomerID\",\"InvoiceNo\").count().groupBy(\"CustomerID\").agg(count(\"*\").alias(\"Frequency\"))\n",
    "monetary = df.groupBy(\"CustomerID\").agg(round(sum(\"TotalPrice\"), 2).alias(\"Monetary\"))\n",
    "rfm = recency.join(frequency,\"CustomerID\",how =\"inner\").join(monetary,\"CustomerID\",how =\"inner\")\n",
    "\n",
    "display(rfm.head(5))"
   ]
  },
  {
   "cell_type": "markdown",
   "metadata": {},
   "source": [
    "Now our next step will be determination of cutting points for each feature"
   ]
  },
  {
   "cell_type": "markdown",
   "metadata": {},
   "source": [
    "RFM Segamentation\n",
    "Determine the cutting points for each attribute.Cutting points can be mainly inferenced from business point of view."
   ]
  },
  {
   "cell_type": "code",
   "execution_count": 15,
   "metadata": {},
   "outputs": [
    {
     "data": {
      "text/html": [
       "<style scoped>\n",
       "  .ansiout {\n",
       "    display: block;\n",
       "    unicode-bidi: embed;\n",
       "    white-space: pre-wrap;\n",
       "    word-wrap: break-word;\n",
       "    word-break: break-all;\n",
       "    font-family: \"Source Code Pro\", \"Menlo\", monospace;;\n",
       "    font-size: 13px;\n",
       "    color: #555;\n",
       "    margin-left: 4px;\n",
       "    line-height: 19px;\n",
       "  }\n",
       "</style>\n",
       "<div class=\"ansiout\"></div>"
      ]
     },
     "metadata": {},
     "output_type": "display_data"
    }
   ],
   "source": [
    "def describe_pd(df_in, columns, deciles=False):\n",
    "    if deciles:\n",
    "        percentiles = np.array(range(0, 110, 10))\n",
    "    else:\n",
    "        percentiles = [25, 50, 75]\n",
    "    percs = np.transpose([np.percentile(df_in.select(x).collect(),percentiles) for x in columns])\n",
    "    percs = pd.DataFrame(percs,columns=columns)\n",
    "    percs[\"summary\"] = [str(p) + \"%\"for p in percentiles]\n",
    "    spark_describe = df_in.describe().toPandas()\n",
    "    new_df = pd.concat([spark_describe, percs],ignore_index=True)\n",
    "    new_df = new_df.round(2)\n",
    "    return new_df[[\"summary\"] + columns]"
   ]
  },
  {
   "cell_type": "code",
   "execution_count": 16,
   "metadata": {},
   "outputs": [
    {
     "data": {
      "text/html": [
       "<div>\n",
       "<style scoped>\n",
       "    .dataframe tbody tr th:only-of-type {\n",
       "        vertical-align: middle;\n",
       "    }\n",
       "\n",
       "    .dataframe tbody tr th {\n",
       "        vertical-align: top;\n",
       "    }\n",
       "\n",
       "    .dataframe thead th {\n",
       "        text-align: right;\n",
       "    }\n",
       "</style>\n",
       "<table border=\"1\" class=\"dataframe\">\n",
       "  <thead>\n",
       "    <tr style=\"text-align: right;\">\n",
       "      <th></th>\n",
       "      <th>summary</th>\n",
       "      <th>Recency</th>\n",
       "      <th>Frequency</th>\n",
       "      <th>Monetary</th>\n",
       "    </tr>\n",
       "  </thead>\n",
       "  <tbody>\n",
       "    <tr>\n",
       "      <th>0</th>\n",
       "      <td>count</td>\n",
       "      <td>4339</td>\n",
       "      <td>4339</td>\n",
       "      <td>4339</td>\n",
       "    </tr>\n",
       "    <tr>\n",
       "      <th>1</th>\n",
       "      <td>mean</td>\n",
       "      <td>92.0414842129523</td>\n",
       "      <td>4.271952062687255</td>\n",
       "      <td>2053.793012214796</td>\n",
       "    </tr>\n",
       "    <tr>\n",
       "      <th>2</th>\n",
       "      <td>stddev</td>\n",
       "      <td>100.00775734416372</td>\n",
       "      <td>7.70549277131482</td>\n",
       "      <td>8988.248319510309</td>\n",
       "    </tr>\n",
       "    <tr>\n",
       "      <th>3</th>\n",
       "      <td>min</td>\n",
       "      <td>0</td>\n",
       "      <td>1</td>\n",
       "      <td>0.0</td>\n",
       "    </tr>\n",
       "    <tr>\n",
       "      <th>4</th>\n",
       "      <td>max</td>\n",
       "      <td>373</td>\n",
       "      <td>210</td>\n",
       "      <td>280206.02</td>\n",
       "    </tr>\n",
       "    <tr>\n",
       "      <th>5</th>\n",
       "      <td>0%</td>\n",
       "      <td>0</td>\n",
       "      <td>1</td>\n",
       "      <td>0</td>\n",
       "    </tr>\n",
       "    <tr>\n",
       "      <th>6</th>\n",
       "      <td>10%</td>\n",
       "      <td>5</td>\n",
       "      <td>1</td>\n",
       "      <td>156.566</td>\n",
       "    </tr>\n",
       "    <tr>\n",
       "      <th>7</th>\n",
       "      <td>20%</td>\n",
       "      <td>13.2</td>\n",
       "      <td>1</td>\n",
       "      <td>250.106</td>\n",
       "    </tr>\n",
       "    <tr>\n",
       "      <th>8</th>\n",
       "      <td>30%</td>\n",
       "      <td>22</td>\n",
       "      <td>1</td>\n",
       "      <td>351.658</td>\n",
       "    </tr>\n",
       "    <tr>\n",
       "      <th>9</th>\n",
       "      <td>40%</td>\n",
       "      <td>32</td>\n",
       "      <td>2</td>\n",
       "      <td>489.724</td>\n",
       "    </tr>\n",
       "    <tr>\n",
       "      <th>10</th>\n",
       "      <td>50%</td>\n",
       "      <td>50</td>\n",
       "      <td>2</td>\n",
       "      <td>674.45</td>\n",
       "    </tr>\n",
       "    <tr>\n",
       "      <th>11</th>\n",
       "      <td>60%</td>\n",
       "      <td>71</td>\n",
       "      <td>3</td>\n",
       "      <td>941.942</td>\n",
       "    </tr>\n",
       "    <tr>\n",
       "      <th>12</th>\n",
       "      <td>70%</td>\n",
       "      <td>108</td>\n",
       "      <td>4</td>\n",
       "      <td>1353.74</td>\n",
       "    </tr>\n",
       "    <tr>\n",
       "      <th>13</th>\n",
       "      <td>80%</td>\n",
       "      <td>179</td>\n",
       "      <td>6</td>\n",
       "      <td>2057.91</td>\n",
       "    </tr>\n",
       "    <tr>\n",
       "      <th>14</th>\n",
       "      <td>90%</td>\n",
       "      <td>262.2</td>\n",
       "      <td>9</td>\n",
       "      <td>3646.16</td>\n",
       "    </tr>\n",
       "    <tr>\n",
       "      <th>15</th>\n",
       "      <td>100%</td>\n",
       "      <td>373</td>\n",
       "      <td>210</td>\n",
       "      <td>280206</td>\n",
       "    </tr>\n",
       "  </tbody>\n",
       "</table>\n",
       "</div>"
      ]
     },
     "metadata": {},
     "output_type": "display_data"
    }
   ],
   "source": [
    "cols = [\"Recency\",\"Frequency\",\"Monetary\"]\n",
    "describe_pd(rfm,cols,1)"
   ]
  },
  {
   "cell_type": "code",
   "execution_count": 17,
   "metadata": {},
   "outputs": [
    {
     "data": {
      "text/html": [
       "<style scoped>\n",
       "  .ansiout {\n",
       "    display: block;\n",
       "    unicode-bidi: embed;\n",
       "    white-space: pre-wrap;\n",
       "    word-wrap: break-word;\n",
       "    word-break: break-all;\n",
       "    font-family: \"Source Code Pro\", \"Menlo\", monospace;;\n",
       "    font-size: 13px;\n",
       "    color: #555;\n",
       "    margin-left: 4px;\n",
       "    line-height: 19px;\n",
       "  }\n",
       "</style>\n",
       "<div class=\"ansiout\">+-------+------------------+-----------------+-----------------+\n",
       "summary|           Recency|        Frequency|         Monetary|\n",
       "+-------+------------------+-----------------+-----------------+\n",
       "  count|              4339|             4339|             4339|\n",
       "   mean|  92.0414842129523|4.271952062687255|2053.793012214796|\n",
       " stddev|100.00775734416372| 7.70549277131482|8988.248319510309|\n",
       "    min|                 0|                1|              0.0|\n",
       "    max|               373|              210|        280206.02|\n",
       "+-------+------------------+-----------------+-----------------+\n",
       "\n",
       "</div>"
      ]
     },
     "metadata": {},
     "output_type": "display_data"
    }
   ],
   "source": [
    "#Use obove function describe_pd or either use this below piece of code for short statistical inference\n",
    "cols = [\"Recency\",\"Frequency\",\"Monetary\"]\n",
    "rfm.select(cols).describe().show()"
   ]
  },
  {
   "cell_type": "code",
   "execution_count": 18,
   "metadata": {},
   "outputs": [
    {
     "data": {
      "text/html": [
       "<style scoped>\n",
       "  .table-result-container {\n",
       "    max-height: 300px;\n",
       "    overflow: auto;\n",
       "  }\n",
       "  table, th, td {\n",
       "    border: 1px solid black;\n",
       "    border-collapse: collapse;\n",
       "  }\n",
       "  th, td {\n",
       "    padding: 5px;\n",
       "  }\n",
       "  th {\n",
       "    text-align: left;\n",
       "  }\n",
       "</style><div class='table-result-container'><table class='table-result'><thead style='background-color: white'><tr><th>CustomerID</th><th>Recency</th><th>Frequency</th><th>Monetary</th><th>r_seg</th><th>f_seg</th><th>m_seg</th></tr></thead><tbody><tr><td>15727</td><td>16</td><td>7</td><td>5178.96</td><td>1</td><td>1</td><td>1</td></tr><tr><td>16574</td><td>71</td><td>1</td><td>451.44</td><td>3</td><td>4</td><td>3</td></tr><tr><td>17420</td><td>50</td><td>3</td><td>598.83</td><td>2</td><td>3</td><td>3</td></tr><tr><td>13285</td><td>23</td><td>4</td><td>2709.12</td><td>2</td><td>2</td><td>1</td></tr><tr><td>15619</td><td>10</td><td>1</td><td>336.4</td><td>1</td><td>4</td><td>3</td></tr></tbody></table></div>"
      ]
     },
     "metadata": {},
     "output_type": "display_data"
    }
   ],
   "source": [
    "#Using the quantile for defining the R,F,M values between 1 and 4\n",
    "#According to the magnitudes we have assigned values between 1 to 4 to the attributes\n",
    "\n",
    "def RScore(x):\n",
    "  #Smaller value of x(Recency) tells us that the particular customer has done some activity(like buying something or using some product) recently and contrary larger the value of x will give some inference that customer wasn't involved in activity from a long time\n",
    "  if x <= 16:\n",
    "    return 1\n",
    "  elif x<= 50:\n",
    "    return 2\n",
    "  elif x<= 143:\n",
    "    return 3\n",
    "  else:\n",
    "    return 4\n",
    "\n",
    "def FScore(x):\n",
    "  #Smaller the value of x(Frequency) tell that the customer is not involved in activities frequently and for customer with high value of x denotes that customer is involved in Frequent activities\n",
    "  if x <= 1:\n",
    "    return 4\n",
    "  elif x <= 3:\n",
    "    return 3\n",
    "  elif x <= 5:\n",
    "    return 2\n",
    "  else:\n",
    "    return 1\n",
    "\n",
    "def MScore(x):\n",
    "  #Smaller the value of x(Monetary value) tells us that customer activities cost is not much(has not spent much money on buying some product etc) and contrary higher value of x denotes that customer has spent a lot of money on activities\n",
    "  if x <= 293:\n",
    "    return 4\n",
    "  elif x <= 648:\n",
    "    return 3\n",
    "  elif x <= 1611:\n",
    "    return 2\n",
    "  else:\n",
    "    return 1\n",
    "\n",
    "#A customer can have any of the permutation of these values corresponding to their activities\n",
    "  \n",
    "\n",
    "#For each and every value of R,F,M we will pass them through the lambda function in corresponding R_udf,F_udf,M_udf\n",
    "from pyspark.sql.functions import udf\n",
    "from pyspark.sql.types import StringType, DoubleType\n",
    "\n",
    "R_udf = udf(lambda x: RScore(x), StringType())\n",
    "F_udf = udf(lambda x: FScore(x), StringType())\n",
    "M_udf = udf(lambda x: MScore(x), StringType())\n",
    "\n",
    "#RFM segamentation\n",
    "from pyspark.sql.functions import concat\n",
    "\n",
    "rfm_seg=rfm.withColumn(\"r_seg\", R_udf(\"Recency\"))\n",
    "rfm_seg=rfm_seg.withColumn(\"f_seg\", F_udf(\"Frequency\"))\n",
    "rfm_seg=rfm_seg.withColumn(\"m_seg\", M_udf(\"Monetary\"))\n",
    "display(rfm_seg.head(5))"
   ]
  },
  {
   "cell_type": "markdown",
   "metadata": {},
   "source": [
    "##Next will be determination of RFM score and corresponding business value"
   ]
  },
  {
   "cell_type": "code",
   "execution_count": 20,
   "metadata": {},
   "outputs": [
    {
     "data": {
      "text/html": [
       "<style scoped>\n",
       "  .table-result-container {\n",
       "    max-height: 300px;\n",
       "    overflow: auto;\n",
       "  }\n",
       "  table, th, td {\n",
       "    border: 1px solid black;\n",
       "    border-collapse: collapse;\n",
       "  }\n",
       "  th, td {\n",
       "    padding: 5px;\n",
       "  }\n",
       "  th {\n",
       "    text-align: left;\n",
       "  }\n",
       "</style><div class='table-result-container'><table class='table-result'><thead style='background-color: white'><tr><th>CustomerID</th><th>Recency</th><th>Frequency</th><th>Monetary</th><th>r_seg</th><th>f_seg</th><th>m_seg</th><th>RFMScore</th></tr></thead><tbody><tr><td>17809</td><td>16</td><td>12</td><td>5411.91</td><td>1</td><td>1</td><td>1</td><td>111</td></tr><tr><td>17677</td><td>1</td><td>30</td><td>16363.23</td><td>1</td><td>1</td><td>1</td><td>111</td></tr><tr><td>16255</td><td>16</td><td>8</td><td>2619.91</td><td>1</td><td>1</td><td>1</td><td>111</td></tr><tr><td>15382</td><td>14</td><td>6</td><td>5955.71</td><td>1</td><td>1</td><td>1</td><td>111</td></tr><tr><td>12757</td><td>15</td><td>13</td><td>7857.1</td><td>1</td><td>1</td><td>1</td><td>111</td></tr></tbody></table></div>"
      ]
     },
     "metadata": {},
     "output_type": "display_data"
    }
   ],
   "source": [
    "col_list=[\"r_seg\",\"f_seg\",\"m_seg\"]\n",
    "\n",
    "#RFM score is nothing but the concatenated R,F,M values\n",
    "rfm_seg=rfm_seg.withColumn(\"RFMScore\",concat(*col_list))\n",
    "display(rfm_seg.sort(\"RFMScore\").head(5))"
   ]
  },
  {
   "cell_type": "code",
   "execution_count": 21,
   "metadata": {},
   "outputs": [
    {
     "data": {
      "text/html": [
       "<style scoped>\n",
       "  .table-result-container {\n",
       "    max-height: 300px;\n",
       "    overflow: auto;\n",
       "  }\n",
       "  table, th, td {\n",
       "    border: 1px solid black;\n",
       "    border-collapse: collapse;\n",
       "  }\n",
       "  th, td {\n",
       "    padding: 5px;\n",
       "  }\n",
       "  th {\n",
       "    text-align: left;\n",
       "  }\n",
       "</style><div class='table-result-container'><table class='table-result'><thead style='background-color: white'><tr><th>RFMScore</th><th>avg(Recency)</th><th>avg(Monetary)</th><th>avg(Frequency)</th></tr></thead><tbody><tr><td>111</td><td>6.175398633257403</td><td>9644.012460136679</td><td>16.439635535307517</td></tr><tr><td>112</td><td>7.892857142857143</td><td>1243.5928571428572</td><td>7.285714285714286</td></tr><tr><td>113</td><td>9.333333333333334</td><td>443.08666666666664</td><td>6.0</td></tr><tr><td>114</td><td>11.0</td><td>201.12</td><td>7.0</td></tr><tr><td>121</td><td>7.5131578947368425</td><td>2638.8373684210515</td><td>4.5131578947368425</td></tr></tbody></table></div>"
      ]
     },
     "metadata": {},
     "output_type": "display_data"
    }
   ],
   "source": [
    "#Statistical summary for each RFM score(Mapping of RFM score against average R,F,M values)\n",
    "display(rfm_seg.groupBy(\"RFMScore\").agg({\"Recency\":\"mean\",\"Frequency\":\"mean\",\"Monetary\":\"mean\"} ).sort([\"RFMScore\"]).head(5))"
   ]
  },
  {
   "cell_type": "markdown",
   "metadata": {},
   "source": [
    "RFM Value Inference\n",
    "\n",
    "Now the main conclusion is that what and how these RFM values are analyzed\n",
    "\n",
    "Based on RFM values we can have much possible categories of customers some categories can be of overlapping nature with other category(means can be included within one category broadly)\n",
    "\n",
    "1)The First case is customer with R,F,M values 1,1,1: The customers with these values are the one's who does activities(like buying,using product) more recently more oftenly and spends the most\n",
    "\n",
    "2)The Second case is customer with R,F,M values 4,4,4: The Customer with these R,F,M values are the one's who does activities less recently and less oftenly and they spents little\n",
    "\n",
    "The above two were the extreme cases of customers out of which some can be said as best customer and contrary from organization business point of view.\n",
    "\n",
    "Also leaving the extreme cases we can also have some other variation in customers:\n",
    "\n",
    "1)There are also customers that appear less frequently but spends a lot with high monetary value\n",
    "\n",
    "2)Some customers appear more frequently and oftenly but spends a little they have high Recency and Frequency value\n",
    "\n",
    "3)We also have customers who appears frequntly they can be termed as loyal customers\n",
    "\n",
    "4)There can be customer who have not purchased from a long time but appear but comes and make a large monetary value transaction\n",
    "\n",
    "RFM analysis is one of the key technique in gaining insights about the customers, like what kind of customers does we have and how can we cluster them in one category so that we can focus on categories with large number of customers in each category and provide some king of offers to them before their churning"
   ]
  },
  {
   "cell_type": "code",
   "execution_count": null,
   "metadata": {},
   "outputs": [],
   "source": []
  }
 ],
 "metadata": {
  "kernelspec": {
   "display_name": "Python 3",
   "language": "python",
   "name": "python3"
  },
  "language_info": {
   "codemirror_mode": {
    "name": "ipython",
    "version": 3
   },
   "file_extension": ".py",
   "mimetype": "text/x-python",
   "name": "python",
   "nbconvert_exporter": "python",
   "pygments_lexer": "ipython3",
   "version": "3.7.4"
  },
  "name": "RFM Analysis (1)",
  "notebookId": 4403270739387162
 },
 "nbformat": 4,
 "nbformat_minor": 1
}
